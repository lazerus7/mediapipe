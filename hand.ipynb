{
 "cells": [
  {
   "cell_type": "code",
   "execution_count": 2,
   "metadata": {},
   "outputs": [],
   "source": [
    "import mediapipe as mp\n",
    "import cv2"
   ]
  },
  {
   "cell_type": "code",
   "execution_count": 3,
   "metadata": {},
   "outputs": [],
   "source": [
    "mphands=mp.solutions.hands\n",
    "mp_drawing=mp.solutions.drawing_utils\n"
   ]
  },
  {
   "cell_type": "code",
   "execution_count": 4,
   "metadata": {},
   "outputs": [],
   "source": [
    "Hands=mphands.Hands()"
   ]
  },
  {
   "cell_type": "code",
   "execution_count": 5,
   "metadata": {},
   "outputs": [],
   "source": [
    "cap=cv2.VideoCapture(0)\n",
    "while True:\n",
    "    data,image=cap.read()\n",
    "    image=cv2.cvtColor(image,cv2.COLOR_BGR2RGB)\n",
    "    results=Hands.process(image)\n",
    "    #print(results)\n",
    "    image=cv2.cvtColor(image,cv2.COLOR_RGB2BGR)\n",
    "    if results.multi_hand_landmarks:\n",
    "        for hand_landmarks in results.multi_hand_landmarks :\n",
    "            mp_drawing.draw_landmarks(image,hand_landmarks,mphands.HAND_CONNECTIONS)\n",
    "    cv2.imshow('Hand Tracking',image)\n",
    "    if cv2.waitKey(1) & 0XFF==ord('q'):\n",
    "        break\n",
    "cap.release()\n",
    "cv2.destroyAllWindows()"
   ]
  },
  {
   "cell_type": "code",
   "execution_count": 6,
   "metadata": {},
   "outputs": [
    {
     "data": {
      "text/plain": [
       "landmark {\n",
       "  x: 0.12599070370197296\n",
       "  y: 0.8797511458396912\n",
       "  z: -3.782710393807065e-07\n",
       "}\n",
       "landmark {\n",
       "  x: 0.18631406128406525\n",
       "  y: 0.802819013595581\n",
       "  z: -0.014337103813886642\n",
       "}\n",
       "landmark {\n",
       "  x: 0.22169318795204163\n",
       "  y: 0.6899531483650208\n",
       "  z: -0.020082693547010422\n",
       "}\n",
       "landmark {\n",
       "  x: 0.2358122169971466\n",
       "  y: 0.6092504262924194\n",
       "  z: -0.028195738792419434\n",
       "}\n",
       "landmark {\n",
       "  x: 0.22084194421768188\n",
       "  y: 0.5707258582115173\n",
       "  z: -0.03261459246277809\n",
       "}\n",
       "landmark {\n",
       "  x: 0.15110185742378235\n",
       "  y: 0.6157391667366028\n",
       "  z: -0.003736511105671525\n",
       "}\n",
       "landmark {\n",
       "  x: 0.19129890203475952\n",
       "  y: 0.5734493732452393\n",
       "  z: -0.03522155061364174\n",
       "}\n",
       "landmark {\n",
       "  x: 0.20619913935661316\n",
       "  y: 0.6466214060783386\n",
       "  z: -0.05437890440225601\n",
       "}\n",
       "landmark {\n",
       "  x: 0.19907112419605255\n",
       "  y: 0.6936667561531067\n",
       "  z: -0.06231393665075302\n",
       "}\n",
       "landmark {\n",
       "  x: 0.11151528358459473\n",
       "  y: 0.6305286884307861\n",
       "  z: -0.009269634261727333\n",
       "}\n",
       "landmark {\n",
       "  x: 0.15632688999176025\n",
       "  y: 0.5946807265281677\n",
       "  z: -0.038913190364837646\n",
       "}\n",
       "landmark {\n",
       "  x: 0.17489749193191528\n",
       "  y: 0.6717294454574585\n",
       "  z: -0.04677128419280052\n",
       "}\n",
       "landmark {\n",
       "  x: 0.16832993924617767\n",
       "  y: 0.7143828272819519\n",
       "  z: -0.0464300699532032\n",
       "}\n",
       "landmark {\n",
       "  x: 0.07536019384860992\n",
       "  y: 0.6545882225036621\n",
       "  z: -0.01986188441514969\n",
       "}\n",
       "landmark {\n",
       "  x: 0.12040074169635773\n",
       "  y: 0.6183809638023376\n",
       "  z: -0.04852089658379555\n",
       "}\n",
       "landmark {\n",
       "  x: 0.14167062938213348\n",
       "  y: 0.685374915599823\n",
       "  z: -0.04194030538201332\n",
       "}\n",
       "landmark {\n",
       "  x: 0.13676702976226807\n",
       "  y: 0.7272582054138184\n",
       "  z: -0.030625661835074425\n",
       "}\n",
       "landmark {\n",
       "  x: 0.040926799178123474\n",
       "  y: 0.6875279545783997\n",
       "  z: -0.03208436444401741\n",
       "}\n",
       "landmark {\n",
       "  x: 0.08239275217056274\n",
       "  y: 0.6504117250442505\n",
       "  z: -0.0489761158823967\n",
       "}\n",
       "landmark {\n",
       "  x: 0.10552239418029785\n",
       "  y: 0.69172602891922\n",
       "  z: -0.04069473221898079\n",
       "}\n",
       "landmark {\n",
       "  x: 0.10601824522018433\n",
       "  y: 0.7218286991119385\n",
       "  z: -0.029859168455004692\n",
       "}"
      ]
     },
     "execution_count": 6,
     "metadata": {},
     "output_type": "execute_result"
    }
   ],
   "source": [
    "hand_landmarks\n",
    "\n",
    "\n",
    "\n",
    "\n"
   ]
  }
 ],
 "metadata": {
  "kernelspec": {
   "display_name": "Python 3",
   "language": "python",
   "name": "python3"
  },
  "language_info": {
   "codemirror_mode": {
    "name": "ipython",
    "version": 3
   },
   "file_extension": ".py",
   "mimetype": "text/x-python",
   "name": "python",
   "nbconvert_exporter": "python",
   "pygments_lexer": "ipython3",
   "version": "3.10.7"
  },
  "orig_nbformat": 4,
  "vscode": {
   "interpreter": {
    "hash": "7bfb20dd83853995a52bf3c4e120dba89ceb38f4b9bf2f73b91b322190fe65fb"
   }
  }
 },
 "nbformat": 4,
 "nbformat_minor": 2
}
